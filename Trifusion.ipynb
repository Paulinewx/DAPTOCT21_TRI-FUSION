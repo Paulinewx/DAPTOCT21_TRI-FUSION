def merge_sort(array):
    
    if len(array) <= 1 :
        return False
      
    elif len(array) > 1 :
        left_array = array[:len(array)//2] 
        right_array = array[len(array)//2:]
    
    else:
        array=None 
    #récursion sur liste de gauche et de droite:
        merge_sort(left_array)
        merge_sort(right_array)
   
    #merge
        i=0 #index left array
        j=0 #index right array
        k=0 #index merged array
        while i < len(left_array) and j < len(right_array):
            if left_array[i] < right_array[j]:
                array[k]=left_array[i]
                i +=1
                k +=1
            else: 
                array[k]= right_array[j] 
                j +=1
                k +=1
        while i< len(left_array):
                array[k] = left_array[i]
                i+=1
                k+=1
            
        while j<len(right_array):
                array[k] = right_array[j]
                j+= 1
                k+= 1

liste_test = ['T',2,3,4,1]

merge_sort(liste_test)
print(liste_test)
            
        
